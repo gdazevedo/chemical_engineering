{
 "cells": [
  {
   "cell_type": "markdown",
   "metadata": {},
   "source": [
    "# Comparação de reatores - CSTR e batelada"
   ]
  },
  {
   "cell_type": "markdown",
   "metadata": {},
   "source": [
    "Um exemplo para a comparação de desempenho de um reator CSTR e um reator batelada para uma reação de segunda ordem do tipo $(-r_A) = k\\cdot C_A^2$.\n",
    "\n",
    "Vamos usar os seguintes pacotes:\n",
    "\n",
    "* **Numpy**, para lidar com vetores e expressões algébricas;\n",
    "* **Matplotlib**, para plotar os resultados;\n",
    "* **Odeint**, para integração de equações diferenciais."
   ]
  },
  {
   "cell_type": "code",
   "execution_count": 1,
   "metadata": {},
   "outputs": [],
   "source": [
    "import numpy as np\n",
    "from scipy.integrate import odeint\n",
    "import matplotlib.pyplot as plt"
   ]
  },
  {
   "cell_type": "markdown",
   "metadata": {},
   "source": [
    "Agora, precisamos das equações diferenciais a serem resolvidas. Partindo do balanço de massa geral para o volume de controle (reator), temos:"
   ]
  },
  {
   "cell_type": "markdown",
   "metadata": {},
   "source": [
    "$$\\textrm{ENTRA - SAI + GERADO - CONSUMIDO} = \\textrm{ACUMULADO}$$"
   ]
  },
  {
   "cell_type": "markdown",
   "metadata": {},
   "source": [
    "A diferença entre o que entra e o que sai é dada por (F$_{A0} -$ F$_A$). Já o termo de geração é dado por $\\int_0^{V}(-r_A)dV$. Consideramos não haver consumo de matéria dentro do volume de controle e o que acumula é o número de mols da espécie analisada (A) com o tempo ($\\frac{d N_A}{d t}$). Assim, temos:"
   ]
  },
  {
   "cell_type": "markdown",
   "metadata": {},
   "source": [
    "$$F_{A0} - F_A + \\int_0^V (-r_A) dV = \\frac{d N_A}{dt}$$"
   ]
  },
  {
   "cell_type": "markdown",
   "metadata": {},
   "source": [
    "Consideração:\n",
    "\n",
    "* A taxa de reação independe do volume do reator, sendo possível tirá-la de dentro da integral.\n",
    "\n",
    "Assim, dividindo ambos os lados da expressão pelo volume (V) do reator, chegamos à:"
   ]
  },
  {
   "cell_type": "markdown",
   "metadata": {},
   "source": [
    "$$\\frac{F_{A0} - F_A}{V} + \\frac{(-r_A)\\cdot V}{V} = \\frac{dN_A}{dt}\\cdot\\frac{1}{V}$$"
   ]
  },
  {
   "cell_type": "markdown",
   "metadata": {},
   "source": [
    "Lembrando que $\\frac{F_A}{V} = \\frac{C_A}{\\tau}$, onde $\\tau$ = $\\frac{V}{v_0}$ = tempo de residência do reator (min$^{-1}$), ficamos com:"
   ]
  },
  {
   "cell_type": "markdown",
   "metadata": {},
   "source": [
    "$$\\frac{dC_A}{dt} = \\frac{v_0}{V}\\cdot(C_{A0} - C_A) + (-r_A)$$"
   ]
  },
  {
   "cell_type": "markdown",
   "metadata": {},
   "source": [
    "Já para o reator batelada, não temos termos de entrada nem saída. Portanto, considerando que a taxa de reação independe do volume, ficamos com:"
   ]
  },
  {
   "cell_type": "markdown",
   "metadata": {},
   "source": [
    "$$\\frac{dC_A}{dt} = (-r_A)$$"
   ]
  },
  {
   "cell_type": "markdown",
   "metadata": {},
   "source": [
    "## Primeiro passo: definindo os parâmetros necessários"
   ]
  },
  {
   "cell_type": "markdown",
   "metadata": {},
   "source": [
    "Vamos precisar definir quatro parâmetros:\n",
    "\n",
    "* A concentração inicial da espécie A (C$_{A0}$, mol.L$^{-1}$);\n",
    "* A fração volumétrica ($v_0$) no reator CSTR (L.min$^{-1}$);\n",
    "* A constante de velocidade da reação ($k$), que vamos assumir como **independente** da temperatura (L.mol$^{-1}$.min$^{-1}$);\n",
    "* O volume (V) do reator (L); "
   ]
  },
  {
   "cell_type": "code",
   "execution_count": 7,
   "metadata": {},
   "outputs": [],
   "source": [
    "v0 = 10.0 #L/min, vazão volumétrica de entrada (CSTR)\n",
    "V = 100.0 #L, volume do reator (CSTR)\n",
    "k = 0.17 #L/mol.min, constante de velocidade da reação (aprox: independente da temperatura)\n",
    "Ca0 = 5.0 #mol/L, concentração de A na entrada do reator (CSTR)"
   ]
  },
  {
   "cell_type": "markdown",
   "metadata": {},
   "source": [
    "## Segundo passo: definindo as funções para integração, o espaço de integração e o chute inicial"
   ]
  },
  {
   "cell_type": "markdown",
   "metadata": {},
   "source": [
    "Vamos, agora, definir as funções `CSTR` e `BAT` para serem integradas: "
   ]
  },
  {
   "cell_type": "code",
   "execution_count": 8,
   "metadata": {},
   "outputs": [],
   "source": [
    "def CSTR(Ca,t):\n",
    "    dCadt = (v0 / V) * (Ca0 - Ca) - (k * Ca**2)\n",
    "    return dCadt\n",
    "\n",
    "def BAT(Cb,t):\n",
    "    dCbdt = -k*Cb**2\n",
    "    return dCbdt"
   ]
  },
  {
   "cell_type": "markdown",
   "metadata": {},
   "source": [
    "Agora, vamos definir o espaço de integração (um espaço linear para o tempo, com alguns pontos) e um chute inicial para a concentração (o integrador `odeint` precisa partir de um chute inicial para integrar numericamente qualquer equação diferencial):"
   ]
  },
  {
   "cell_type": "code",
   "execution_count": 9,
   "metadata": {},
   "outputs": [],
   "source": [
    "t = np.arange(0.0,20.0,0.1)\n",
    "C0 = 5.0"
   ]
  },
  {
   "cell_type": "markdown",
   "metadata": {},
   "source": [
    "## Terceiro passo: integrando e calculando a conversão"
   ]
  },
  {
   "cell_type": "markdown",
   "metadata": {},
   "source": [
    "Para integrar, basta chamar o integrador `odeint`, inserindo três argumentos: a função a ser integrada, o chute inicial, e o espaço de integração."
   ]
  },
  {
   "cell_type": "code",
   "execution_count": 10,
   "metadata": {},
   "outputs": [],
   "source": [
    "Y = odeint(CSTR, C0, t)\n",
    "Z = odeint(BAT, C0, t)"
   ]
  },
  {
   "cell_type": "markdown",
   "metadata": {},
   "source": [
    "Vamos agora calcular a conversão das reações? Lembre-se que a conversão é dada por: "
   ]
  },
  {
   "cell_type": "markdown",
   "metadata": {},
   "source": [
    "$$X = \\frac{\\textrm{ENTRA - SAI}}{\\textrm{ENTRA}}$$"
   ]
  },
  {
   "cell_type": "code",
   "execution_count": 12,
   "metadata": {},
   "outputs": [],
   "source": [
    "XA = (Ca0 - np.array(Y))/Ca0 #colocamos aqui os resultados de \n",
    "XB = (Ca0 - np.array(Z))/Ca0"
   ]
  },
  {
   "cell_type": "code",
   "execution_count": null,
   "metadata": {},
   "outputs": [],
   "source": []
  }
 ],
 "metadata": {
  "kernelspec": {
   "display_name": "Python 3",
   "language": "python",
   "name": "python3"
  },
  "language_info": {
   "codemirror_mode": {
    "name": "ipython",
    "version": 3
   },
   "file_extension": ".py",
   "mimetype": "text/x-python",
   "name": "python",
   "nbconvert_exporter": "python",
   "pygments_lexer": "ipython3",
   "version": "3.7.7"
  }
 },
 "nbformat": 4,
 "nbformat_minor": 4
}
