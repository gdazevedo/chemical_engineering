{
 "cells": [
  {
   "cell_type": "markdown",
   "metadata": {},
   "source": [
    "# Exercício 5.5 - Levenspiel\n",
    "\n",
    "Enunciado:\n",
    "\n",
    "<blockquote>\n",
    "    Uma alimentação aquosa de A e B (400 L/min, 100 mmols de A/L e 200 mmols de B/L) deve ser convertida em produto em um reator pistonado (PFR). A cinética da reação é representada por:"
   ]
  },
  {
   "cell_type": "markdown",
   "metadata": {},
   "source": [
    "$$ A + B \\rightarrow R \\,\\,\\,\\,\\, -r_A = 200C_AC_B\\,mol.L^{-1}.min^{-1} $$"
   ]
  },
  {
   "cell_type": "markdown",
   "metadata": {},
   "source": [
    "<blockquote>\n",
    "    Encontre o volume necessário do reator para converter 99,9% de A em produto."
   ]
  },
  {
   "cell_type": "markdown",
   "metadata": {},
   "source": [
    "### Teoria\n",
    "---\n",
    "\n",
    "Bom, o problema é relativamente simples: precisamos achar o volume do PFR que fornece uma conversão de 99,9% (0.999), sabendo as concentrações de entrada dos dois reagentes e a taxa de reação.\n",
    "\n",
    "Vamos assumir, no balanço material, que:\n",
    "\n",
    "* Não há acúmulo no reator, por isso, ele opera em **estado estacionário**;\n",
    "* Num determinado instante $t$, as quantidades de A e B convertidas são **iguais** à $C_{A0}X_A$\n",
    "\n",
    "Isso leva ao seguinte equacionamento:\n",
    "\n",
    "$$ F_{A} - (F_A + dF_{A}) + (-r_A)dV = 0 $$\n",
    "\n",
    "Rearranjando:\n",
    "\n",
    "$$ dF_A = d[F_{A0}(1 - X_A)] = (-r_A)dV \\therefore -F_{A0}dXA = - (-r_A)dV $$\n",
    "\n",
    "O que precisamos fazer é, então, integrar a expressão anterior para obtermos uma lista de volumes e conversões para essas condições e achar o volume que mais se aproxima de uma conversão de 99,9%.\n",
    "\n",
    "Para que a taxa de reação fique dependente da conversão, podemos reescrevê-la considerando que $C_A = C_{A0}(1-X_A)$, $C_B = C_{B0}X_A$ e $F_{A0} = C_{A0}\\cdot F$:\n",
    "\n",
    "$$ (-r_A) = 200.0C_{A0}C_{B0}(X_A - X_A^2) $$\n",
    "\n",
    "Portanto, a equação que vamos resolver, no fim das contas, é:\n",
    "\n",
    "$$ \\frac{dXA}{(-r_A)} = \\frac{dV}{C_{A0}F} $$\n",
    "\n",
    "Essa equação não precisa ser integrada numericamente - uma simples separação de variáveis já resolve nosso problema. Entretanto, usaremos aqui o pacote `odeint` para integrá-la numericamente (você pode, inclusive, comparar a resposta com a resposta obtida se a integração fosse feita de maneira 'manual').\n",
    "\n",
    "### Implementação\n",
    "---\n",
    "\n",
    "Vamos começar chamando alguns pacotes:\n",
    "\n",
    "* **scipy.integrate**, para integração entre dois pontos;\n",
    "* **Numpy**, para álgebra;\n",
    "* **Pandas**, para trabalhar melhor com tabelas;\n",
    "* **Matplotlib.pyplot**, para plotar a solução"
   ]
  },
  {
   "cell_type": "code",
   "execution_count": 89,
   "metadata": {},
   "outputs": [],
   "source": [
    "import numpy as np\n",
    "from scipy.integrate import odeint\n",
    "import pandas as pd\n",
    "import matplotlib.pyplot as plt"
   ]
  },
  {
   "cell_type": "markdown",
   "metadata": {},
   "source": [
    "Primeiramente, vamos definir os parâmetros necessários (fornecidos no enunciado):"
   ]
  },
  {
   "cell_type": "code",
   "execution_count": 38,
   "metadata": {},
   "outputs": [],
   "source": [
    "F = 400.0 #L/min, vazão de entrada;\n",
    "CA0 = 0.1 #mol/L, concentração inicial de A;\n",
    "CB0 = 0.2 #mol/L, concentração inicial de B;"
   ]
  },
  {
   "cell_type": "markdown",
   "metadata": {},
   "source": [
    "Vamos definir agora uma *função* para fazer a integração. Vamos chamá-la de *PFR*, e ela receberá como argumentos os valores de $C_A$, $C_B$ e do volume (V) do reator:"
   ]
  },
  {
   "cell_type": "code",
   "execution_count": 41,
   "metadata": {},
   "outputs": [],
   "source": [
    "def PFR(XA, V):\n",
    "    r_A = 200.0*CA0*CB0*(XA - XA**2)\n",
    "    dXAdV = r_A / (CA0 * F)\n",
    "    return dXAdV"
   ]
  },
  {
   "cell_type": "markdown",
   "metadata": {},
   "source": [
    "Agora, podemos definir os chutes iniciais das conversões e um vetor para os volumes que serão computados e fazer a integração:"
   ]
  },
  {
   "cell_type": "code",
   "execution_count": 84,
   "metadata": {},
   "outputs": [],
   "source": [
    "XA0 = 0.001 #Chute inicial para a conversão de A. Vamos deixar o mais perto possível da conversão que dejamos (0.999)\n",
    "\n",
    "V = np.arange(0.0, 200.0, 0.1) #Vetor para os volumes, variando de 0,0 a 200,0 L, de 0,1 em 0,1 L.\n",
    "\n",
    "Y = odeint(PFR, XA0, V)"
   ]
  },
  {
   "cell_type": "markdown",
   "metadata": {},
   "source": [
    "Vamos converter o vetor de respostas para um DataFrame, usando o pacote **Pandas**. Assim:"
   ]
  },
  {
   "cell_type": "code",
   "execution_count": 85,
   "metadata": {},
   "outputs": [],
   "source": [
    "Y = pd.DataFrame(Y, columns=['XA'])\n",
    "Y['Volume'] = V"
   ]
  },
  {
   "cell_type": "code",
   "execution_count": 86,
   "metadata": {},
   "outputs": [
    {
     "data": {
      "text/html": [
       "<div>\n",
       "<style scoped>\n",
       "    .dataframe tbody tr th:only-of-type {\n",
       "        vertical-align: middle;\n",
       "    }\n",
       "\n",
       "    .dataframe tbody tr th {\n",
       "        vertical-align: top;\n",
       "    }\n",
       "\n",
       "    .dataframe thead th {\n",
       "        text-align: right;\n",
       "    }\n",
       "</style>\n",
       "<table border=\"1\" class=\"dataframe\">\n",
       "  <thead>\n",
       "    <tr style=\"text-align: right;\">\n",
       "      <th></th>\n",
       "      <th>XA</th>\n",
       "      <th>Volume</th>\n",
       "    </tr>\n",
       "  </thead>\n",
       "  <tbody>\n",
       "    <tr>\n",
       "      <th>0</th>\n",
       "      <td>0.001000</td>\n",
       "      <td>0.0</td>\n",
       "    </tr>\n",
       "    <tr>\n",
       "      <th>1</th>\n",
       "      <td>0.001010</td>\n",
       "      <td>0.1</td>\n",
       "    </tr>\n",
       "    <tr>\n",
       "      <th>2</th>\n",
       "      <td>0.001020</td>\n",
       "      <td>0.2</td>\n",
       "    </tr>\n",
       "    <tr>\n",
       "      <th>3</th>\n",
       "      <td>0.001030</td>\n",
       "      <td>0.3</td>\n",
       "    </tr>\n",
       "    <tr>\n",
       "      <th>4</th>\n",
       "      <td>0.001041</td>\n",
       "      <td>0.4</td>\n",
       "    </tr>\n",
       "    <tr>\n",
       "      <th>...</th>\n",
       "      <td>...</td>\n",
       "      <td>...</td>\n",
       "    </tr>\n",
       "    <tr>\n",
       "      <th>1995</th>\n",
       "      <td>0.999998</td>\n",
       "      <td>199.5</td>\n",
       "    </tr>\n",
       "    <tr>\n",
       "      <th>1996</th>\n",
       "      <td>0.999998</td>\n",
       "      <td>199.6</td>\n",
       "    </tr>\n",
       "    <tr>\n",
       "      <th>1997</th>\n",
       "      <td>0.999998</td>\n",
       "      <td>199.7</td>\n",
       "    </tr>\n",
       "    <tr>\n",
       "      <th>1998</th>\n",
       "      <td>0.999998</td>\n",
       "      <td>199.8</td>\n",
       "    </tr>\n",
       "    <tr>\n",
       "      <th>1999</th>\n",
       "      <td>0.999998</td>\n",
       "      <td>199.9</td>\n",
       "    </tr>\n",
       "  </tbody>\n",
       "</table>\n",
       "<p>2000 rows × 2 columns</p>\n",
       "</div>"
      ],
      "text/plain": [
       "            XA  Volume\n",
       "0     0.001000     0.0\n",
       "1     0.001010     0.1\n",
       "2     0.001020     0.2\n",
       "3     0.001030     0.3\n",
       "4     0.001041     0.4\n",
       "...        ...     ...\n",
       "1995  0.999998   199.5\n",
       "1996  0.999998   199.6\n",
       "1997  0.999998   199.7\n",
       "1998  0.999998   199.8\n",
       "1999  0.999998   199.9\n",
       "\n",
       "[2000 rows x 2 columns]"
      ]
     },
     "execution_count": 86,
     "metadata": {},
     "output_type": "execute_result"
    }
   ],
   "source": [
    "Y"
   ]
  },
  {
   "cell_type": "markdown",
   "metadata": {},
   "source": [
    "O que podemos fazer agora é encontrar o volume do PFR que corresponde à uma conversão de 99,9%. Repare: numa integração numérica, podemos não ter exatamente o valor 0.999 para a conversão, por isso, iremos procurar o *valor mais próximo*. Podemos fazer isso usando um *boolean* no DataFrame Y, da seguinte forma:"
   ]
  },
  {
   "cell_type": "code",
   "execution_count": 87,
   "metadata": {},
   "outputs": [],
   "source": [
    "Vol = Y['Volume'].loc[(Y['XA']-0.999).abs().argsort()[:1]].values[0]"
   ]
  },
  {
   "cell_type": "code",
   "execution_count": 88,
   "metadata": {},
   "outputs": [
    {
     "name": "stdout",
     "output_type": "stream",
     "text": [
      "Volume do PFR: 138.1 L\n"
     ]
    }
   ],
   "source": [
    "print('Volume do PFR: %0.1f' % Vol, 'L')"
   ]
  },
  {
   "cell_type": "markdown",
   "metadata": {},
   "source": [
    "Que tal vermos como a conversão varia com o volume do PFR?"
   ]
  },
  {
   "cell_type": "code",
   "execution_count": 97,
   "metadata": {},
   "outputs": [
    {
     "data": {
      "image/png": "[encoded data removed]",
      "text/plain": [
       "<Figure size 432x288 with 1 Axes>"
      ]
     },
     "metadata": {
      "needs_background": "light"
     },
     "output_type": "display_data"
    }
   ],
   "source": [
    "plt.plot(V, Y['XA']*100.0, linewidth = 2.0, color = 'deeppink')\n",
    "plt.xlabel('Volume (L)', fontweight = 'bold')\n",
    "plt.ylabel('Conversão (%)', fontweight = 'bold')\n",
    "plt.grid(True, which = 'both', color = 'lightgray')\n",
    "plt.show()"
   ]
  },
  {
   "cell_type": "code",
   "execution_count": null,
   "metadata": {},
   "outputs": [],
   "source": []
  }
 ],
 "metadata": {
  "kernelspec": {
   "display_name": "Python 3",
   "language": "python",
   "name": "python3"
  },
  "language_info": {
   "codemirror_mode": {
    "name": "ipython",
    "version": 3
   },
   "file_extension": ".py",
   "mimetype": "text/x-python",
   "name": "python",
   "nbconvert_exporter": "python",
   "pygments_lexer": "ipython3",
   "version": "3.7.7"
  }
 },
 "nbformat": 4,
 "nbformat_minor": 4
}
