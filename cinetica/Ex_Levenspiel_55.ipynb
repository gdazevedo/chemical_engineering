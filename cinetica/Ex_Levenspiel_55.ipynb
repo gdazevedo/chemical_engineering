{
 "cells": [
  {
   "cell_type": "markdown",
   "metadata": {},
   "source": [
    "# Exercício 5.5 - Levenspiel\n",
    "\n",
    "Enunciado:\n",
    "\n",
    "<blockquote>\n",
    "    Uma alimentação aquosa de A e B (400 L/min, 100 mmols de A/L e 200 mmols de B/L) deve ser convertida em produto em um reator pistonado (PFR). A cinética da reação é representada por:"
   ]
  },
  {
   "cell_type": "markdown",
   "metadata": {},
   "source": [
    "$$ A + B \\rightarrow R \\,\\,\\,\\,\\, -r_A = 200C_AC_B\\,mol.L^{-1}.min^{-1} $$"
   ]
  },
  {
   "cell_type": "markdown",
   "metadata": {},
   "source": [
    "<blockquote>\n",
    "    Encontre o volume necessário do reator para converter 99,9% de A em produto."
   ]
  },
  {
   "cell_type": "markdown",
   "metadata": {},
   "source": [
    "### Teoria\n",
    "---\n",
    "\n",
    "Bom, o problema é relativamente simples: precisamos achar o volume do PFR que fornece uma conversão de 99,9% (0.999), sabendo as concentrações de entrada dos dois reagentes e a taxa de reação.\n",
    "\n",
    "Vamos assumir, no balanço material, que:\n",
    "\n",
    "* Não há acúmulo no reator, por isso, ele opera em **estado estacionário**;\n",
    "* Num determinado instante $t$, as quantidades de A e B convertidas são **iguais** à $C_{A0}X_A$\n",
    "\n",
    "Isso leva ao seguinte equacionamento:\n",
    "\n",
    "$$ F_{A} - (F_A + dF_{A}) - (-r_A)dV = 0 $$\n",
    "\n",
    "Rearranjando:\n",
    "\n",
    "$$ dF_A = d[F_{A0}(1 - X_A)] = (-r_A)dV \\therefore -F_{A0}dXA = (-r_A)dV $$\n",
    "\n",
    "O que precisamos fazer é, então, integrar a expressão anterior para obtermos uma lista de volumes e conversões para essas condições e achar o volume que mais se aproxima de uma conversão de 99,9%.\n",
    "\n",
    "Para que a taxa de reação fique dependente da conversão, podemos reescrevê-la considerando que $C_A = C_{A0}(1-X_A)$ e $C_B = C_{B0}X_A$:\n",
    "\n",
    "$$ (-r_A) = 200.0C_{A0}C_{B0}(X_A - X_A^2) $$\n",
    "\n",
    "### Implementação\n",
    "---\n",
    "\n",
    "Vamos começar chamando alguns pacotes:\n",
    "\n",
    "* **Odeint** no **scipy.integrate**, para integração de EDOs;\n",
    "* **Numpy**, para álgebra;\n",
    "* **Pandas**, para trabalhar melhor com tabelas;"
   ]
  },
  {
   "cell_type": "code",
   "execution_count": 259,
   "metadata": {},
   "outputs": [],
   "source": [
    "import numpy as np\n",
    "from scipy.integrate import odeint\n",
    "import pandas as pd"
   ]
  },
  {
   "cell_type": "markdown",
   "metadata": {},
   "source": [
    "Primeiramente, vamos definir os parâmetros necessários (fornecidos no enunciado):"
   ]
  },
  {
   "cell_type": "code",
   "execution_count": 260,
   "metadata": {},
   "outputs": [],
   "source": [
    "F = 400.0 #L/min, vazão de entrada;\n",
    "CA0 = 0.1 #mol/L, concentração inicial de A;\n",
    "CB0 = 0.2 #mol/L, concentração inicial de B;"
   ]
  },
  {
   "cell_type": "markdown",
   "metadata": {},
   "source": [
    "Vamos definir agora uma *função* para fazer a integração. Vamos chamá-la de *PFR*, e ela receberá como argumentos os valores de $C_A$, $C_B$ e do volume (V) do reator:"
   ]
  },
  {
   "cell_type": "code",
   "execution_count": 227,
   "metadata": {},
   "outputs": [],
   "source": [
    "def PFR(XA, V):\n",
    "    r_A = 200.0*CA0*(1-XA)*CB0*XA\n",
    "    dXAdV = (r_A) / F\n",
    "    return dXAdV"
   ]
  },
  {
   "cell_type": "markdown",
   "metadata": {},
   "source": [
    "Agora, podemos definir os chutes iniciais das conversões e um vetor para os volumes que serão computados e fazer a integração:"
   ]
  },
  {
   "cell_type": "code",
   "execution_count": 254,
   "metadata": {},
   "outputs": [],
   "source": [
    "XA0 = 0.995 #Chute inicial para a conversão de A. Vamos deixar o mais perto possível da conversão que dejamos (0.999)\n",
    "\n",
    "V = np.arange(0.0, 200.0, 0.001) #Vetor para os volumes, variando de 0,0 a 200,0 L, de 0,1 em 0,1 L.\n",
    "\n",
    "Y = odeint(PFR, XA0, V)"
   ]
  },
  {
   "cell_type": "markdown",
   "metadata": {},
   "source": [
    "Vamos converter o vetor de respostas para um DataFrame, usando o pacote **Pandas**. Assim:"
   ]
  },
  {
   "cell_type": "code",
   "execution_count": 255,
   "metadata": {},
   "outputs": [],
   "source": [
    "Y = pd.DataFrame(Y, columns=['XA'])\n",
    "Y['Volume'] = V"
   ]
  },
  {
   "cell_type": "code",
   "execution_count": 256,
   "metadata": {},
   "outputs": [
    {
     "data": {
      "text/html": [
       "<div>\n",
       "<style scoped>\n",
       "    .dataframe tbody tr th:only-of-type {\n",
       "        vertical-align: middle;\n",
       "    }\n",
       "\n",
       "    .dataframe tbody tr th {\n",
       "        vertical-align: top;\n",
       "    }\n",
       "\n",
       "    .dataframe thead th {\n",
       "        text-align: right;\n",
       "    }\n",
       "</style>\n",
       "<table border=\"1\" class=\"dataframe\">\n",
       "  <thead>\n",
       "    <tr style=\"text-align: right;\">\n",
       "      <th></th>\n",
       "      <th>XA</th>\n",
       "      <th>Volume</th>\n",
       "    </tr>\n",
       "  </thead>\n",
       "  <tbody>\n",
       "    <tr>\n",
       "      <th>0</th>\n",
       "      <td>0.99500</td>\n",
       "      <td>0.000</td>\n",
       "    </tr>\n",
       "    <tr>\n",
       "      <th>1</th>\n",
       "      <td>0.99500</td>\n",
       "      <td>0.001</td>\n",
       "    </tr>\n",
       "    <tr>\n",
       "      <th>2</th>\n",
       "      <td>0.99500</td>\n",
       "      <td>0.002</td>\n",
       "    </tr>\n",
       "    <tr>\n",
       "      <th>3</th>\n",
       "      <td>0.99500</td>\n",
       "      <td>0.003</td>\n",
       "    </tr>\n",
       "    <tr>\n",
       "      <th>4</th>\n",
       "      <td>0.99500</td>\n",
       "      <td>0.004</td>\n",
       "    </tr>\n",
       "    <tr>\n",
       "      <th>...</th>\n",
       "      <td>...</td>\n",
       "      <td>...</td>\n",
       "    </tr>\n",
       "    <tr>\n",
       "      <th>199995</th>\n",
       "      <td>0.99932</td>\n",
       "      <td>199.995</td>\n",
       "    </tr>\n",
       "    <tr>\n",
       "      <th>199996</th>\n",
       "      <td>0.99932</td>\n",
       "      <td>199.996</td>\n",
       "    </tr>\n",
       "    <tr>\n",
       "      <th>199997</th>\n",
       "      <td>0.99932</td>\n",
       "      <td>199.997</td>\n",
       "    </tr>\n",
       "    <tr>\n",
       "      <th>199998</th>\n",
       "      <td>0.99932</td>\n",
       "      <td>199.998</td>\n",
       "    </tr>\n",
       "    <tr>\n",
       "      <th>199999</th>\n",
       "      <td>0.99932</td>\n",
       "      <td>199.999</td>\n",
       "    </tr>\n",
       "  </tbody>\n",
       "</table>\n",
       "<p>200000 rows × 2 columns</p>\n",
       "</div>"
      ],
      "text/plain": [
       "             XA   Volume\n",
       "0       0.99500    0.000\n",
       "1       0.99500    0.001\n",
       "2       0.99500    0.002\n",
       "3       0.99500    0.003\n",
       "4       0.99500    0.004\n",
       "...         ...      ...\n",
       "199995  0.99932  199.995\n",
       "199996  0.99932  199.996\n",
       "199997  0.99932  199.997\n",
       "199998  0.99932  199.998\n",
       "199999  0.99932  199.999\n",
       "\n",
       "[200000 rows x 2 columns]"
      ]
     },
     "execution_count": 256,
     "metadata": {},
     "output_type": "execute_result"
    }
   ],
   "source": [
    "Y"
   ]
  },
  {
   "cell_type": "markdown",
   "metadata": {},
   "source": [
    "O que podemos fazer agora é encontrar o volume do PFR que corresponde à uma conversão de 99,9%. Repare: numa integração numérica, podemos não ter exatamente o valor 0.999 para a conversão, por isso, iremos procurar o *valor mais próximo*. Podemos fazer isso usando um *boolean* no DataFrame Y, da seguinte forma:"
   ]
  },
  {
   "cell_type": "code",
   "execution_count": 257,
   "metadata": {},
   "outputs": [],
   "source": [
    "Vol = Y['Volume'].loc[(Y['XA']-0.999).abs().argsort()[:1]].values[0]"
   ]
  },
  {
   "cell_type": "code",
   "execution_count": 258,
   "metadata": {},
   "outputs": [
    {
     "name": "stdout",
     "output_type": "stream",
     "text": [
      "Volume do PFR: 161.3 L\n"
     ]
    }
   ],
   "source": [
    "print('Volume do PFR: %0.1f' % Vol, 'L')"
   ]
  },
  {
   "cell_type": "markdown",
   "metadata": {},
   "source": []
  }
 ],
 "metadata": {
  "kernelspec": {
   "display_name": "Python 3",
   "language": "python",
   "name": "python3"
  },
  "language_info": {
   "codemirror_mode": {
    "name": "ipython",
    "version": 3
   },
   "file_extension": ".py",
   "mimetype": "text/x-python",
   "name": "python",
   "nbconvert_exporter": "python",
   "pygments_lexer": "ipython3",
   "version": "3.7.7"
  }
 },
 "nbformat": 4,
 "nbformat_minor": 4
}
