{
 "cells": [
  {
   "cell_type": "markdown",
   "metadata": {},
   "source": [
    "# Comparação de desempenho - PFR e CSTR"
   ]
  },
  {
   "cell_type": "markdown",
   "metadata": {},
   "source": [
    "O exemplo a seguir foi retirado do livro **Cinética de Reatores**, do Fogler."
   ]
  },
  {
   "cell_type": "markdown",
   "metadata": {},
   "source": [
    "<blockquote> A reação exotérmica A $\\rightarrow$ B + C foi conduzida adiabaticamente e os seguintes dados foram registrados:\n",
    "\n",
    "|        X        |  0  |  0,2 | 0,4 | 0,45 | 0,5 | 0,6 |  0,8 |  0,9 |\n",
    "|:---------------:|:---:|:----:|:---:|:----:|:---:|:---:|:----:|:----:|\n",
    "| **-rA (mol/L.min)** | 1,0 | 1,67 | 5,0 |  5,0 | 5,0 | 5,0 | 1,25 | 0,91 |\n",
    "\n",
    "A vazão de entrada de A era de 300 mol/min.\n",
    "\n",
    "a) Quais são os volumes necessários de um PFR e de um CSTR para atingir a conversão de 40%?\n",
    "    \n",
    "b) Qual a máxima conversão que pode ser alcançada num CSTR de 105 dm$^3$?\n",
    "    \n",
    "c) Plote a conversão e a velocidade de reação como uma função do volume do reator PFR, para um volume de até 100 dm$^3$."
   ]
  },
  {
   "cell_type": "markdown",
   "metadata": {},
   "source": [
    "## Primeiro passo: chamando os pacotes\n",
    "\n",
    "Para a resolução desse problema, precisaremos de basicamente quatro pacotes:\n",
    "\n",
    "* **Numpy**, para cálculos algébricos;\n",
    "* **Matplotlib**, para plotar as resoluções;\n",
    "* **scipy.integrate**, para resolução das EDOs;\n",
    "* **Pandas**, para melhor organização dos resultados em DataFrame."
   ]
  },
  {
   "cell_type": "code",
   "execution_count": 2,
   "metadata": {},
   "outputs": [],
   "source": [
    "import numpy as np\n",
    "import scipy.integrate\n",
    "import matplotlib.pyplot as plt\n",
    "import pandas as pd"
   ]
  },
  {
   "cell_type": "markdown",
   "metadata": {},
   "source": [
    "## Segundo passo: integração\n",
    "\n",
    "Para resolver o item a), precisamos lembrar da equação de projeto de um reator PFR. O leitor deve consultar o livro para detalhes na demonstração e considerações obtidas, mas lembre-se que todas essas equações são derivadas de balanços materiais em torno do volume de controle analisado (isto é, o reator).\n",
    "\n",
    "Para um reator PFR, a equação de projeto na forma diferencial fica:"
   ]
  },
  {
   "cell_type": "markdown",
   "metadata": {},
   "source": [
    "$$F_{A0}\\frac{dX}{dV} = (-r_A)$$"
   ]
  },
  {
   "cell_type": "markdown",
   "metadata": {},
   "source": [
    "Vamos, então, criar um DataFrame com os dados do enunciado e definir os parâmetros:"
   ]
  },
  {
   "cell_type": "code",
   "execution_count": 3,
   "metadata": {},
   "outputs": [],
   "source": [
    "FA0 = 300.0 #mol/min, vazão molar (enunciado);\n",
    "\n",
    "data = {'Conversão': [0, 0.2, 0.4, 0.45, 0.5, 0.6, 0.8, 0.9],\n",
    "       'Taxa de reação': [1.0, 1.67, 5.0, 5.0, 5.0, 5.0, 1.25, 0.91]} #Chamando os dados do enunciado.\n",
    "\n",
    "df = pd.DataFrame(data) #Colocando os dados em DataFrame."
   ]
  },
  {
   "cell_type": "markdown",
   "metadata": {},
   "source": [
    "Reparem que, para o caso de um PFR, nós precisaríamos de uma expressão (relação) entre a taxa de reação e a conversão para conseguirmos fazer a integração numérica. Se você buscar plotar os dados fornecidos (Excel, por exemplo), não conseguirá passar nenhuma função por essa quantidade de pontos com precisão. O que precisamos, então, é fazer a **área sob a curva** formada por esses pontos (que é a definição de uma integral).\n",
    "\n",
    "Portanto, rearranjando a equação anterior, ficamos com:"
   ]
  },
  {
   "cell_type": "markdown",
   "metadata": {},
   "source": [
    "$$dV = F_{A0}\\cdot\\int_0^{0.4}\\frac{dX}{(-r_A)}$$"
   ]
  },
  {
   "cell_type": "markdown",
   "metadata": {},
   "source": [
    "Faremos essa integral usando o **método de Simpson**, já disponível no `scipy.integrate`:"
   ]
  },
  {
   "cell_type": "code",
   "execution_count": 4,
   "metadata": {},
   "outputs": [
    {
     "name": "stdout",
     "output_type": "stream",
     "text": [
      "O volume do PFR é de: 71.90 L\n"
     ]
    }
   ],
   "source": [
    "#Pegando os valores do DataFrame até o valor de X = 40%\n",
    "conversao_simps = df['Conversão'].iloc[0:3].values\n",
    "taxa_simps = df['Taxa de reação'].iloc[0:3].values\n",
    "\n",
    "#Calculando a área:\n",
    "\n",
    "area = scipy.integrate.simps(1/taxa_simps, conversao_simps) #ATENÇÃO! A curva é X vs. 1/(-rA)!! Precisamos inverter \n",
    "                                                            #os valores para a taxa, ok??\n",
    "#Resolvendo para dV:\n",
    "\n",
    "V_PFR = area * FA0\n",
    "\n",
    "print('O volume do PFR é de: %0.2f' % V_PFR, 'L')"
   ]
  },
  {
   "cell_type": "markdown",
   "metadata": {},
   "source": [
    "E para o CSTR? Como ficaria?\n",
    "\n",
    "Bem, a equação de projeto para um reator CSTR é:"
   ]
  },
  {
   "cell_type": "markdown",
   "metadata": {},
   "source": [
    "$$V_{CSTR} = \\frac{F_{A0}\\cdot X_A}{(-r_A)}$$\n",
    "\n",
    "Resolvendo, temos:"
   ]
  },
  {
   "cell_type": "code",
   "execution_count": 5,
   "metadata": {},
   "outputs": [
    {
     "name": "stdout",
     "output_type": "stream",
     "text": [
      "O volume do CSTR é de: 24.00 L\n"
     ]
    }
   ],
   "source": [
    "V_CSTR = FA0 * 0.4 / 5.0\n",
    "\n",
    "print('O volume do CSTR é de: %0.2f' %V_CSTR, 'L')"
   ]
  },
  {
   "cell_type": "markdown",
   "metadata": {},
   "source": [
    "Podemos resolver o item b) agora. Ele pede a máxima conversão num CSTR se o volume for igual à 105 L. Bem, não temos o dado da taxa de reação para um volume de 105 L. As únicas informações que temos são o volume do CSTR e a vazão molar de entrada (300 mol/min). Com isso, conseguimos apenas:\n",
    "\n",
    "$$\\frac{V_{CSTR}}{F_{A0}} = \\frac{X_A}{(-r_A)} \\rightarrow \\frac{X_A}{(-r_A)} = \\frac{105 dm^3}{300 \\textrm{mol/min}} = 0,35 \\textrm{dm}^3\\textrm{/min.mol}$$"
   ]
  },
  {
   "cell_type": "markdown",
   "metadata": {},
   "source": [
    "Com os dados fornecidos, nós podemos calcular várias razões $\\frac{X_A}{(-r_A)}$ e plotá-las em função da conversão."
   ]
  },
  {
   "cell_type": "code",
   "execution_count": 6,
   "metadata": {},
   "outputs": [],
   "source": [
    "df['Conv/Taxa'] = df['Conversão'].iloc[:].values / df['Taxa de reação'].iloc[:].values\n",
    "\n",
    "#Fazendo uma regressão polinomial (grau 3) nos dados:\n",
    "\n",
    "reg = np.polyfit(df['Conversão'], df['Conv/Taxa'], 3)\n",
    "\n",
    "#Acessando a equação para predição de valores:\n",
    "\n",
    "poly = np.poly1d(reg)"
   ]
  },
  {
   "cell_type": "markdown",
   "metadata": {},
   "source": [
    "Agora temos um objeto `poly` que, a ele, basta adicionar o valor que quisermos de conversão e ele nos fornecerá a razão $\\frac{X_A}{(-r_A)}$. O método agora é uma tentativa e erro: chutamos valores de conversão e vemos se achamos uma razão próxima de 0,35.\n",
    "\n",
    "Mas, claro, não vamos chutar qualquer valor. Vamos olhar como ficou o nosso vetor `df['Conv/Taxa']`?"
   ]
  },
  {
   "cell_type": "code",
   "execution_count": 7,
   "metadata": {},
   "outputs": [
    {
     "data": {
      "text/html": [
       "<div>\n",
       "<style scoped>\n",
       "    .dataframe tbody tr th:only-of-type {\n",
       "        vertical-align: middle;\n",
       "    }\n",
       "\n",
       "    .dataframe tbody tr th {\n",
       "        vertical-align: top;\n",
       "    }\n",
       "\n",
       "    .dataframe thead th {\n",
       "        text-align: right;\n",
       "    }\n",
       "</style>\n",
       "<table border=\"1\" class=\"dataframe\">\n",
       "  <thead>\n",
       "    <tr style=\"text-align: right;\">\n",
       "      <th></th>\n",
       "      <th>Conversão</th>\n",
       "      <th>Taxa de reação</th>\n",
       "      <th>Conv/Taxa</th>\n",
       "    </tr>\n",
       "  </thead>\n",
       "  <tbody>\n",
       "    <tr>\n",
       "      <th>0</th>\n",
       "      <td>0.00</td>\n",
       "      <td>1.00</td>\n",
       "      <td>0.000000</td>\n",
       "    </tr>\n",
       "    <tr>\n",
       "      <th>1</th>\n",
       "      <td>0.20</td>\n",
       "      <td>1.67</td>\n",
       "      <td>0.119760</td>\n",
       "    </tr>\n",
       "    <tr>\n",
       "      <th>2</th>\n",
       "      <td>0.40</td>\n",
       "      <td>5.00</td>\n",
       "      <td>0.080000</td>\n",
       "    </tr>\n",
       "    <tr>\n",
       "      <th>3</th>\n",
       "      <td>0.45</td>\n",
       "      <td>5.00</td>\n",
       "      <td>0.090000</td>\n",
       "    </tr>\n",
       "    <tr>\n",
       "      <th>4</th>\n",
       "      <td>0.50</td>\n",
       "      <td>5.00</td>\n",
       "      <td>0.100000</td>\n",
       "    </tr>\n",
       "    <tr>\n",
       "      <th>5</th>\n",
       "      <td>0.60</td>\n",
       "      <td>5.00</td>\n",
       "      <td>0.120000</td>\n",
       "    </tr>\n",
       "    <tr>\n",
       "      <th>6</th>\n",
       "      <td>0.80</td>\n",
       "      <td>1.25</td>\n",
       "      <td>0.640000</td>\n",
       "    </tr>\n",
       "    <tr>\n",
       "      <th>7</th>\n",
       "      <td>0.90</td>\n",
       "      <td>0.91</td>\n",
       "      <td>0.989011</td>\n",
       "    </tr>\n",
       "  </tbody>\n",
       "</table>\n",
       "</div>"
      ],
      "text/plain": [
       "   Conversão  Taxa de reação  Conv/Taxa\n",
       "0       0.00            1.00   0.000000\n",
       "1       0.20            1.67   0.119760\n",
       "2       0.40            5.00   0.080000\n",
       "3       0.45            5.00   0.090000\n",
       "4       0.50            5.00   0.100000\n",
       "5       0.60            5.00   0.120000\n",
       "6       0.80            1.25   0.640000\n",
       "7       0.90            0.91   0.989011"
      ]
     },
     "execution_count": 7,
     "metadata": {},
     "output_type": "execute_result"
    }
   ],
   "source": [
    "df"
   ]
  },
  {
   "cell_type": "markdown",
   "metadata": {},
   "source": [
    "Perceba que, pelos dados, a razão que procuramos está entre uma conversão de 0,6 e 0,8. Vamos chutar uma conversão de 0,65?"
   ]
  },
  {
   "cell_type": "code",
   "execution_count": 8,
   "metadata": {},
   "outputs": [
    {
     "data": {
      "text/plain": [
       "0.22690788694193276"
      ]
     },
     "execution_count": 8,
     "metadata": {},
     "output_type": "execute_result"
    }
   ],
   "source": [
    "poly(0.65)"
   ]
  },
  {
   "cell_type": "markdown",
   "metadata": {},
   "source": [
    "E uma conversão de 0,7?"
   ]
  },
  {
   "cell_type": "code",
   "execution_count": 9,
   "metadata": {},
   "outputs": [
    {
     "data": {
      "text/plain": [
       "0.31764202481841913"
      ]
     },
     "execution_count": 9,
     "metadata": {},
     "output_type": "execute_result"
    }
   ],
   "source": [
    "poly(0.7)"
   ]
  },
  {
   "cell_type": "markdown",
   "metadata": {},
   "source": [
    "Estamos quase lá. Talvez 0,75?"
   ]
  },
  {
   "cell_type": "code",
   "execution_count": 10,
   "metadata": {},
   "outputs": [
    {
     "data": {
      "text/plain": [
       "0.43781472195274873"
      ]
     },
     "execution_count": 10,
     "metadata": {},
     "output_type": "execute_result"
    }
   ],
   "source": [
    "poly(0.75)"
   ]
  },
  {
   "cell_type": "markdown",
   "metadata": {},
   "source": [
    "Opa! Ficou maior. Então a conversão máxima é próxima de **70%**!"
   ]
  },
  {
   "cell_type": "markdown",
   "metadata": {},
   "source": [
    "Finalizando nosso problema, o item C pede para que a gente plote a conversão e a taxa de reação em função do volume do reator, até 100 L. Vamos criar esse vetor para o volume:"
   ]
  },
  {
   "cell_type": "code",
   "execution_count": 11,
   "metadata": {},
   "outputs": [],
   "source": [
    "V = np.arange(0.0, 100.0, 1.0)"
   ]
  },
  {
   "cell_type": "markdown",
   "metadata": {},
   "source": [
    "Com os dados fornecidos no enunciado, nós conseguimos obter um volume **máximo** de PFR que corresponde à 90% de conversão. Usando o método de Simpson (área sob a curva), chegamos à um volume de PFR máximo:"
   ]
  },
  {
   "cell_type": "code",
   "execution_count": 12,
   "metadata": {},
   "outputs": [
    {
     "name": "stdout",
     "output_type": "stream",
     "text": [
      "O volume máximo que um PFR realiza essa reação é 138.54 L\n"
     ]
    }
   ],
   "source": [
    "area_max = scipy.integrate.simps(1/df['Taxa de reação'].iloc[:].values, df['Conversão'].iloc[:].values)\n",
    "\n",
    "V_PFR_max = area_max * FA0\n",
    "\n",
    "print('O volume máximo que um PFR realiza essa reação é %0.2f' % V_PFR_max, 'L')"
   ]
  },
  {
   "cell_type": "markdown",
   "metadata": {},
   "source": [
    "Vamos, então, calcular o volume do PFR para todos os pontos de conversão e taxa de reação dados. Na verdade, vamos fazer a área sob a curva para cada ponto de conversão. Assim:"
   ]
  },
  {
   "cell_type": "code",
   "execution_count": 13,
   "metadata": {},
   "outputs": [],
   "source": [
    "area = np.zeros(df.shape[0]-1)\n",
    "\n",
    "#Pegando cada intervalo entre dois pontos para calcular a área sob a curva pelo método de Simpson:\n",
    "\n",
    "for i in range(df.shape[0]-1):\n",
    "    area[i] = scipy.integrate.simps(1/df['Taxa de reação'].iloc[i:i+2].values, df['Conversão'].iloc[i:i+2].values)\n",
    "    \n",
    "area_soma = np.cumsum(area) #Soma acumulada dos valores das áreas\n",
    "V_PFR = area_soma * FA0"
   ]
  },
  {
   "cell_type": "markdown",
   "metadata": {},
   "source": [
    "Agora que temos um vetor com todos os volumes, podemos plotá-lo contra a conversão:"
   ]
  },
  {
   "cell_type": "code",
   "execution_count": 14,
   "metadata": {},
   "outputs": [
    {
     "data": {
      "image/png": "[encoded data removed]",
      "text/plain": [
       "<Figure size 432x288 with 1 Axes>"
      ]
     },
     "metadata": {
      "needs_background": "light"
     },
     "output_type": "display_data"
    }
   ],
   "source": [
    "plt.plot(V_PFR, df['Conversão'].iloc[1:].values*100.0, linewidth = 2.0, color = 'deeppink')\n",
    "plt.xlabel('Volume (L)', fontweight = 'bold')\n",
    "plt.ylabel('Conversão (%)', fontweight = 'bold')\n",
    "plt.xlim(50.0,100.0)\n",
    "plt.grid(True, color = 'lightgray', linestyle = '--')\n",
    "plt.show()"
   ]
  },
  {
   "cell_type": "markdown",
   "metadata": {},
   "source": [
    "E, por fim, a taxa de reação:"
   ]
  },
  {
   "cell_type": "code",
   "execution_count": 15,
   "metadata": {},
   "outputs": [
    {
     "data": {
      "image/png": "[encoded data removed]",
      "text/plain": [
       "<Figure size 432x288 with 1 Axes>"
      ]
     },
     "metadata": {
      "needs_background": "light"
     },
     "output_type": "display_data"
    }
   ],
   "source": [
    "plt.plot(V_PFR, df['Taxa de reação'].iloc[1:].values, linewidth = 2.0, color = 'orange')\n",
    "plt.xlabel('Volume (L)', fontweight = 'bold')\n",
    "plt.ylabel('(-r$_A$) (mol.L$^{-1}$.min$^{-1}$)', fontweight = 'bold')\n",
    "plt.xlim(50.0,100.0)\n",
    "plt.grid(True, color = 'lightgray', linestyle = '--')\n",
    "plt.show()"
   ]
  }
 ],
 "metadata": {
  "kernelspec": {
   "display_name": "Python 3",
   "language": "python",
   "name": "python3"
  },
  "language_info": {
   "codemirror_mode": {
    "name": "ipython",
    "version": 3
   },
   "file_extension": ".py",
   "mimetype": "text/x-python",
   "name": "python",
   "nbconvert_exporter": "python",
   "pygments_lexer": "ipython3",
   "version": "3.7.7"
  }
 },
 "nbformat": 4,
 "nbformat_minor": 4
}
